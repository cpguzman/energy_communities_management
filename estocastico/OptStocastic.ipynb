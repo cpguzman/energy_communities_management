{
 "cells": [
  {
   "cell_type": "code",
   "execution_count": 1,
   "metadata": {},
   "outputs": [],
   "source": [
    "import pyomo.environ as pyo\n",
    "import pandas as pd\n",
    "import dotenv\n",
    "import numpy as np\n",
    "import matplotlib.pyplot as plt\n",
    "import pyomo.environ as pe\n",
    "import build_data\n",
    "from build_data import ext_pyomo_vals, convert_to_dictionary, _auxDictionary\n",
    "import mysql.connector\n",
    "import matplotlib.ticker as ticker\n",
    "import os"
   ]
  },
  {
   "cell_type": "code",
   "execution_count": 2,
   "metadata": {},
   "outputs": [],
   "source": [
    "conf = dotenv.dotenv_values()\n",
    "cplex_path = conf[\"PATH_TO_SOLVER\"]"
   ]
  },
  {
   "cell_type": "code",
   "execution_count": 3,
   "metadata": {},
   "outputs": [],
   "source": [
    "# Set up variables\n",
    "_import_factor = 400 # -> increase the maximum import capacity\n",
    "_stor_factor = 600 # -> increase the storage capacity\n",
    "_specific_date='2019-11-06' # -> Change date\n",
    "_time_step = 60 # -> Change time step\n",
    "_update_forecast = False # -> True to have forecast updat in the operation\n",
    "_save_plots = True # -> True to save the plots\n",
    "\n",
    "begin_time = 1\n",
    "end_time = 24\n",
    "n_scenarios = 3\n",
    "\n",
    "#Comentarios sobre performance de dias\n",
    "#Dia 6 corre rapido\n",
    "#ao fim do dia 13 as previsões sao maiores do q o consumo real\n",
    "#dia 16/17 é um exemplo de uma pessima previsão"
   ]
  },
  {
   "cell_type": "markdown",
   "metadata": {},
   "source": [
    "# Method 1 - Forecast"
   ]
  },
  {
   "cell_type": "code",
   "execution_count": 4,
   "metadata": {},
   "outputs": [],
   "source": [
    "model_forecast = pyo.ConcreteModel(\"Energy Community\")"
   ]
  },
  {
   "cell_type": "code",
   "execution_count": 5,
   "metadata": {},
   "outputs": [],
   "source": [
    "Data_forecast = build_data.Data() "
   ]
  },
  {
   "cell_type": "code",
   "execution_count": 6,
   "metadata": {},
   "outputs": [],
   "source": [
    "model_forecast.t = pe.Set(initialize=np.arange(begin_time, end_time + 1),\n",
    "                 doc='Time periods')"
   ]
  },
  {
   "cell_type": "code",
   "execution_count": 7,
   "metadata": {},
   "outputs": [],
   "source": [
    "dict_P_Max_Imp = convert_to_dictionary(Data_forecast.get_data().peers['import_contracted_p_max'][0, begin_time-1:model_forecast.t.last()], t_start=begin_time-1)\n",
    "dict_P_Max_Exp = convert_to_dictionary(Data_forecast.get_data().peers['export_contracted_p_max'][0, begin_time-1:model_forecast.t.last()], t_start=begin_time-1)\n",
    "\n",
    "step1_folder = './inputs_database/original_inputs/step1'\n",
    "\n",
    "Data_forecast.get_data_from_db(specific_date=_specific_date, table=\"generators_forecast\", end = 24*60//_time_step, experiment_id = 17, time_step=_time_step, folder=step1_folder)\n",
    "Pgen_Forecast_dict = convert_to_dictionary(Data_forecast.get_data().generator['p_forecast'][:, begin_time-1:model_forecast.t.last()], t_start=begin_time-1)\n",
    "\n",
    "Data_forecast.get_data_from_db(specific_date=_specific_date, table=\"loads_forecast\", end = 24*60//_time_step, experiment_id = 23, time_step=_time_step, folder=step1_folder)\n",
    "Pload_Forecast_dict = convert_to_dictionary(Data_forecast.get_data().load['p_forecast'][:, begin_time-1:model_forecast.t.last()], t_start=begin_time-1)\n",
    "\n",
    "dict_C_PImp_Price = convert_to_dictionary(Data_forecast.get_data().peers['buy_price'][0, begin_time-1:model_forecast.t.last()], t_start=begin_time-1)\n",
    "\n",
    "dict_C_PExp_Price = convert_to_dictionary(Data_forecast.get_data().peers['sell_price'][0, begin_time-1:model_forecast.t.last()], t_start=begin_time-1)\n",
    "\n",
    "Pgen_Cost_dict = convert_to_dictionary(Data_forecast.get_data().generator['cost_parameter_b'])\n",
    "\n",
    "Pmax_gen = convert_to_dictionary(Data_forecast.get_data().generator['p_max'])\n",
    "\n"
   ]
  },
  {
   "cell_type": "markdown",
   "metadata": {},
   "source": [
    "## Defining Sets:\n"
   ]
  },
  {
   "cell_type": "code",
   "execution_count": 8,
   "metadata": {},
   "outputs": [],
   "source": [
    "model_forecast.gens = pe.Set(initialize=np.arange(1, Data_forecast.get_data().generator['p_forecast'].shape[0] + 1),\n",
    "                    doc='Number of generators')\n",
    "\n",
    "model_forecast.loads = pe.Set(initialize=np.arange(1, Data_forecast.get_data().load['p_forecast'].shape[0] + 1),\n",
    "                        doc='Number of loads')\n",
    "\n",
    "model_forecast.set_scenarios = pyo.Set(initialize=list(range(n_scenarios)), doc='Set of Scenarios')\n"
   ]
  },
  {
   "cell_type": "markdown",
   "metadata": {},
   "source": [
    "## Defining Parameters"
   ]
  },
  {
   "cell_type": "code",
   "execution_count": 9,
   "metadata": {},
   "outputs": [],
   "source": [
    "# Import and Export - Only Depending on time:\n",
    "\n",
    "model_forecast.Param_P_MaxImp_t = pyo.Param(model_forecast.t, \n",
    "                                   initialize=dict_P_Max_Imp, \n",
    "                                   within=pyo.NonNegativeReals)\n",
    "\n",
    "model_forecast.Param_P_MaxExp_t = pyo.Param(model_forecast.t, \n",
    "                                   initialize=dict_P_Max_Exp, \n",
    "                                   within=pyo.NonNegativeReals)\n",
    "\n",
    "# Power Load:\n",
    "\n",
    "model_forecast.Param_Pld_l_t = pyo.Param(model_forecast.loads, model_forecast.t, \n",
    "                                   initialize=Pload_Forecast_dict, \n",
    "                                   within=pyo.NonNegativeReals)\n",
    "\n",
    "# Prices - Only Depending on time:\n",
    "\n",
    "model_forecast.Param_C_ImpPrice_t = pyo.Param(model_forecast.t, \n",
    "                                   initialize=dict_C_PImp_Price, \n",
    "                                   within=pyo.NonNegativeReals)\n",
    "model_forecast.Param_c_UpImp_t = pyo.Param(model_forecast.t, \n",
    "                                   initialize=dict_C_PImp_Price, \n",
    "                                   within=pyo.NonNegativeReals)\n",
    "model_forecast.Param_c_DownImp_t = pyo.Param(model_forecast.t, \n",
    "                                   initialize=dict_C_PImp_Price, \n",
    "                                   within=pyo.NonNegativeReals)\n",
    "model_forecast.Param_C_UpImpPrice_t = pyo.Param(model_forecast.t, \n",
    "                                   initialize=dict_C_PImp_Price, \n",
    "                                   within=pyo.NonNegativeReals)\n",
    "\n",
    "model_forecast.Param_C_DownImpPrice_t = pyo.Param(model_forecast.t, \n",
    "                                   initialize=dict_C_PImp_Price, \n",
    "                                   within=pyo.NonNegativeReals)\n",
    "\n",
    "model_forecast.Param_C_ExpPrice_t = pyo.Param(model_forecast.t, \n",
    "                                   initialize=dict_C_PExp_Price, \n",
    "                                   within=pyo.NonNegativeReals)\n",
    "# Generator Cost:\n",
    "\n",
    "model_forecast.ParamC_UpGenCost_g_t = pyo.Param(model_forecast.gens, model_forecast.t, \n",
    "                                   initialize=Pgen_Cost_dict, \n",
    "                                   within=pyo.NonNegativeReals)\n",
    "\n",
    "model_forecast.ParamC_DownGenCost_g_t = pyo.Param(model_forecast.gens, model_forecast.t, \n",
    "                                   initialize=Pgen_Cost_dict, \n",
    "                                   within=pyo.NonNegativeReals)\n",
    "\n",
    "model_forecast.Param_c_Gent_g_t = pyo.Param(model_forecast.gens, model_forecast.t, \n",
    "                                   initialize=Pgen_Cost_dict, \n",
    "                                   within=pyo.NonNegativeReals)\n",
    "\n",
    "model_forecast.Param_c_Gen_Up_g_t = pyo.Param(model_forecast.gens, model_forecast.t, \n",
    "                                   initialize=Pgen_Cost_dict, \n",
    "                                   within=pyo.NonNegativeReals)\n",
    "\n",
    "model_forecast.Param_c_Gen_Down_g_t = pyo.Param(model_forecast.gens, model_forecast.t, \n",
    "                                   initialize=Pgen_Cost_dict, \n",
    "                                   within=pyo.NonNegativeReals)\n",
    "# Generator P Max\n",
    "model_forecast.Param_P_MaxGen_g = pyo.Param(model_forecast.gens,\n",
    "                                   initialize=Pmax_gen, \n",
    "                                   within=pyo.NonNegativeReals)\n"
   ]
  },
  {
   "cell_type": "markdown",
   "metadata": {},
   "source": [
    "## Variables:"
   ]
  },
  {
   "cell_type": "code",
   "execution_count": 10,
   "metadata": {},
   "outputs": [],
   "source": [
    "# Defining Decision Variables\n",
    "model_forecast.VarP_OpGen_g_t = pyo.Var(model_forecast.gens, model_forecast.t, domain = pyo.NonNegativeReals, initialize=0)\n",
    "\n",
    "\n",
    "def UpGen_bounds(model, gen, time):\n",
    "    lower_bound = 0\n",
    "    upper_bound = model_forecast.Param_P_MaxGen_g[gen]\n",
    "    return (lower_bound, upper_bound)\n",
    "\n",
    "model_forecast.VarR_UpGen_g_t = pyo.Var(model_forecast.gens, model_forecast.t, bounds = UpGen_bounds, domain = pyo.NonNegativeReals, initialize=0)\n",
    "\n",
    "def DownGen_bounds(model, gen, time):\n",
    "    lower_bound = 0\n",
    "    upper_bound = model_forecast.Param_P_MaxGen_g[gen]\n",
    "    return (lower_bound, upper_bound)\n",
    "\n",
    "model_forecast.VarR_DownGen_g_t = pyo.Var(model_forecast.gens, model_forecast.t, bounds = DownGen_bounds, domain = pyo.NonNegativeReals, initialize=0)\n",
    "\n",
    "def R_Up_Import_bounds(model, time):\n",
    "  lower_bound = 0\n",
    "  upper_bound = model_forecast.Param_P_MaxImp_t[time]\n",
    "  return (lower_bound, upper_bound)\n",
    "\n",
    "model_forecast.VarR_UpImp_t = pyo.Var(model_forecast.t, domain = pyo.NonNegativeReals, bounds = R_Up_Import_bounds, initialize=0)\n",
    "\n",
    "def R_Down_Import_bounds(model, time):\n",
    "  lower_bound = 0\n",
    "  upper_bound = model_forecast.Param_P_MaxImp_t[time]\n",
    "  return (lower_bound, upper_bound)\n",
    "\n",
    "\n",
    "\n",
    "model_forecast.VarR_DownImp_t = pyo.Var(model_forecast.t, domain = pyo.NonNegativeReals, bounds = R_Down_Import_bounds, initialize=0)\n",
    "\n",
    "model_forecast.Var_r_UpGen_g_t_w = pyo.Var(model_forecast.gens, model_forecast.t, model_forecast.set_scenarios, domain = pyo.NonNegativeReals, initialize=0)\n",
    "\n",
    "model_forecast.Var_r_DownGen_g_t_w = pyo.Var(model_forecast.gens, model_forecast.t, model_forecast.set_scenarios, domain = pyo.NonNegativeReals, initialize=0)\n",
    "\n",
    "model_forecast.VarP_Op_imp_t = pyo.Var(model_forecast.t, domain = pyo.NonNegativeReals, initialize=0)\n",
    "\n",
    "model_forecast.Var_r_Up_imp_t_w = pyo.Var(model_forecast.t, model_forecast.set_scenarios, domain = pyo.NonNegativeReals, initialize=0)\n",
    "\n",
    "model_forecast.Var_r_Down_imp_t_w = pyo.Var(model_forecast.t, model_forecast.set_scenarios, domain = pyo.NonNegativeReals, initialize=0)\n",
    "\n",
    "model_forecast.VarP_Op_Exp_t = pyo.Var(model_forecast.t, domain = pyo.NonNegativeReals, initialize=0)\n",
    "\n",
    "model_forecast.VarP_Op_Grid_t = pyo.Var(model_forecast.t, domain = pyo.Reals, initialize=0)\n",
    "\n",
    "model_forecast.XopGrid_t =  pyo.Var(model_forecast.t, within = pyo.Binary, initialize = 0)\n",
    "\n"
   ]
  },
  {
   "cell_type": "markdown",
   "metadata": {},
   "source": [
    "## Constraints:"
   ]
  },
  {
   "cell_type": "code",
   "execution_count": 11,
   "metadata": {},
   "outputs": [],
   "source": [
    "def rule_power_reserve_Up(model, gen, time, w):\n",
    "  return model_forecast.Var_r_UpGen_g_t_w[gen, time, w] <= model_forecast.VarR_UpGen_g_t[gen, time]\n",
    "model_forecast.power_reserve_up_constraint = pyo.Constraint(model_forecast.gens, model_forecast.t, model_forecast.set_scenarios, rule=rule_power_reserve_Up)\n",
    "\n",
    "def rule_power_reserve_Down(model, gen, time, w):\n",
    "  return model_forecast.Var_r_DownGen_g_t_w[gen, time, w] <= model_forecast.VarR_DownGen_g_t[gen, time]\n",
    "model_forecast.power_reserve_Down_constraint = pyo.Constraint(model_forecast.gens, model_forecast.t, model_forecast.set_scenarios, rule=rule_power_reserve_Down)\n",
    "\n",
    "def rule_power_reserve_Up_import(model,time, w):\n",
    "  return model_forecast.Var_r_Up_imp_t_w[time, w] <= model_forecast.VarR_UpImp_t[time]\n",
    "model_forecast.power_reserve_Up_import_constraint = pyo.Constraint(model_forecast.t, model_forecast.set_scenarios, rule=rule_power_reserve_Up_import)\n",
    "\n",
    "def rule_power_reserve_Down_import(model,time, w):\n",
    "  return model_forecast.Var_r_Down_imp_t_w[time, w] <= model_forecast.VarR_DownImp_t[time]\n",
    "model_forecast.power_reserve_Down_import_constraint = pyo.Constraint(model_forecast.t, model_forecast.set_scenarios, rule=rule_power_reserve_Down_import)\n",
    "\n",
    "def rule_gen_power_max(model, gen, time, w):\n",
    "  return model_forecast.VarP_OpGen_g_t[gen, time] + model_forecast.Var_r_UpGen_g_t_w[gen, time, w] <= model_forecast.Param_P_MaxGen_g[gen]\n",
    "model_forecast.gen_power_max_constraint = pyo.Constraint(model_forecast.gens, model_forecast.t, model_forecast.set_scenarios, rule=rule_gen_power_max)\n",
    "\n",
    "def rule_gen_power_min(model, gen, time, w):\n",
    "  return model_forecast.VarP_OpGen_g_t[gen, time] - model_forecast.Var_r_DownGen_g_t_w[gen, time, w] >= 0\n",
    "model_forecast.gen_power_min_constraint = pyo.Constraint(model_forecast.gens, model_forecast.t, model_forecast.set_scenarios, rule=rule_gen_power_min)\n",
    "\n",
    "def rule_power_imp(model, time, w):\n",
    "  return model_forecast.VarP_Op_imp_t[time] - model_forecast.Var_r_Up_imp_t_w[time, w] >= 0\n",
    "model_forecast.power_imp_constraint = pyo.Constraint(model_forecast.t, model_forecast.set_scenarios, rule=rule_power_imp)\n",
    "\n",
    "def rule_power_reserve_Down_import_Op(model,time, w):\n",
    "  return model_forecast.VarP_Op_imp_t[time] - model_forecast.Var_r_Down_imp_t_w[time, w] >= 0\n",
    "model_forecast.power_reserve_Down_import_Op_import_constraint = pyo.Constraint(model_forecast.t, model_forecast.set_scenarios, rule=rule_power_reserve_Down_import_Op)\n",
    "\n",
    "def rule_power_export(model, time):\n",
    "  return model_forecast.VarP_Op_Exp_t[time] <= model_forecast.Param_P_MaxExp_t[time]\n",
    "model_forecast.power_export_constraint = pyo.Constraint(model_forecast.t, rule=rule_power_export)\n",
    "\n",
    "def rule_imported_power(model, time):\n",
    "  return model_forecast.VarP_Op_imp_t[time] == (model_forecast.VarP_Op_Grid_t[time] * model_forecast.XopGrid_t[time])\n",
    "model_forecast.imported_power_constraint = pyo.Constraint(model_forecast.t, rule=rule_imported_power)\n",
    "\n",
    "def rule_exported_power(model, time):\n",
    "  return model_forecast.VarP_Op_Exp_t[time] == -1* (model_forecast.VarP_Op_Grid_t[time] * (1-model_forecast.XopGrid_t[time]))\n",
    "model_forecast.exported_power_constraint = pyo.Constraint(model_forecast.t, rule=rule_exported_power)\n",
    "\n",
    "def rule_balance_power(model, time, w):\n",
    "  total_load = sum(model_forecast.Param_Pld_l_t[load, time] for load in model_forecast.loads)\n",
    "  GenPower = sum(model_forecast.VarP_OpGen_g_t[gen, time] + model_forecast.Var_r_UpGen_g_t_w[gen, time, w] for gen in model_forecast.gens) - model_forecast.Var_r_Down_imp_t_w[time, w]\n",
    "  return model_forecast.VarP_Op_Grid_t[time] + model_forecast.Var_r_Up_imp_t_w[time, w] - model_forecast.Var_r_Down_imp_t_w[time, w] == total_load - GenPower\n",
    "\n",
    "model_forecast.balance_power_constraint = pyo.Constraint(model_forecast.t, model_forecast.set_scenarios, rule=rule_balance_power)"
   ]
  },
  {
   "cell_type": "markdown",
   "metadata": {},
   "source": [
    "## Objective Function"
   ]
  },
  {
   "cell_type": "code",
   "execution_count": 12,
   "metadata": {},
   "outputs": [],
   "source": [
    "\n",
    "# Objective Function Minimization of Cost\n",
    "def objective_rule(model):\n",
    "  CostoRUpGenPower = sum(model_forecast.VarR_UpGen_g_t[gen, time] * model_forecast.ParamC_UpGenCost_g_t[gen, time] for gen in model_forecast.gens for time in model_forecast.t)\n",
    "  CostoRDownGenPower = sum(model_forecast.VarR_DownGen_g_t[gen, time] * model_forecast.ParamC_DownGenCost_g_t[gen, time] for gen in model_forecast.gens for time in model_forecast.t)\n",
    "  CostoReservaPowerImport = sum(model_forecast.VarR_UpImp_t[time] * model_forecast.Param_C_UpImpPrice_t[time] + model_forecast.VarR_DownImp_t[time] * model_forecast.Param_C_DownImpPrice_t[time] for time in model_forecast.t)\n",
    "  FDA = CostoRUpGenPower + CostoRDownGenPower\n",
    "  CostoGenPower = 0\n",
    "  CostoPowerImport = 0\n",
    "  CostoPowerExport = 0\n",
    "  pi_w = 1/n_scenarios\n",
    "  for w in model_forecast.set_scenarios:\n",
    "    CostoGenPower = CostoGenPower + pi_w * sum(model_forecast.Var_r_UpGen_g_t_w[gen, time, w] * model_forecast.Param_c_Gen_Up_g_t[gen, time]  + model_forecast.Var_r_DownGen_g_t_w[gen, time, w] * model_forecast.Param_c_Gen_Down_g_t[gen, time] + model_forecast.VarP_OpGen_g_t[gen, time] * model_forecast.Param_c_Gent_g_t[gen, time] for gen in model_forecast.gens for time in model_forecast.t)\n",
    "    CostoPowerImport = CostoPowerImport + pi_w *sum(model_forecast.Var_r_Up_imp_t_w[time, w] * model_forecast.Param_c_UpImp_t[time] + model_forecast.Var_r_Down_imp_t_w[time, w] * model_forecast.Param_c_DownImp_t[time] + model_forecast.VarP_Op_imp_t[time] * model_forecast.Param_C_ImpPrice_t[time] for time in model_forecast.t)\n",
    "    CostoPowerExport = CostoPowerExport + pi_w *sum(model_forecast.VarP_Op_Exp_t[time] * model_forecast.Param_C_ExpPrice_t[time] for time in model_forecast.t)\n",
    "  FRT = CostoGenPower + CostoPowerImport - CostoPowerExport\n",
    "  return FDA + FRT"
   ]
  },
  {
   "cell_type": "code",
   "execution_count": 13,
   "metadata": {},
   "outputs": [
    {
     "name": "stdout",
     "output_type": "stream",
     "text": [
      "\n",
      "Welcome to IBM(R) ILOG(R) CPLEX(R) Interactive Optimizer 12.9.0.0\n",
      "  with Simplex, Mixed Integer & Barrier Optimizers\n",
      "5725-A06 5725-A29 5724-Y48 5724-Y49 5724-Y54 5724-Y55 5655-Y21\n",
      "Copyright IBM Corp. 1988, 2019.  All Rights Reserved.\n",
      "\n",
      "Type 'help' for a list of available commands.\n",
      "Type 'help' followed by a command name for more\n",
      "information on commands.\n",
      "\n",
      "CPLEX> Logfile 'cplex.log' closed.\n",
      "Logfile '/tmp/tmpqgu7w5nw.cplex.log' open.\n",
      "CPLEX> Problem '/tmp/tmp_y0wqsh8.pyomo.lp' read.\n",
      "Read time = 0.05 sec. (0.17 ticks)\n",
      "CPLEX> Problem name         : /tmp/tmp_y0wqsh8.pyomo.lp\n",
      "Objective sense      : Minimize\n",
      "Variables            :    1368  [Nneg: 1032,  Box: 288,  Free: 24,\n",
      "                                 Binary: 24]\n",
      "Objective nonzeros   :    1272\n",
      "Linear constraints   :    1824  [Less: 1248,  Greater: 504,  Equal: 72]\n",
      "  Nonzeros           :    4416\n",
      "  RHS nonzeros       :     456\n",
      "Quadratic constraints:      48  []\n",
      "  Linear terms       :      72\n",
      "  Quadratic terms    :      48\n",
      "  RHS nonzeros       :       0\n",
      "\n",
      "Variables            : Min LB: 0.000000         Max UB: 50.00000       \n",
      "Objective nonzeros   : Min   : 0.01993333       Max   : 0.1186000      \n",
      "Linear constraints   :\n",
      "  Nonzeros           : Min   : 1.000000         Max   : 2.000000       \n",
      "  RHS nonzeros       : Min   : 4.455483         Max   : 50.00000       \n",
      "Quadratic constraints:\n",
      "  Linear terms       : Min   : 1.000000         Max   : 1.000000       \n",
      "  Quadratic terms    : Min   : 1.000000         Max   : 1.000000       \n",
      "  RHS nonzeros       : Min   : all zero         Max   : all zero       \n",
      "CPLEX> CPLEX Error  5002: 'c_e_x3074_' is not convex.\n",
      "Presolve time = 0.00 sec. (0.10 ticks)\n",
      "\n",
      "Root node processing (before b&c):\n",
      "  Real time             =    0.00 sec. (0.11 ticks)\n",
      "Parallel b&c, 12 threads:\n",
      "  Real time             =    0.00 sec. (0.00 ticks)\n",
      "  Sync time (average)   =    0.00 sec.\n",
      "  Wait time (average)   =    0.00 sec.\n",
      "                          ------------\n",
      "Total (root+branch&cut) =    0.00 sec. (0.11 ticks)\n",
      "\n",
      "Error termination, CPLEX Error  5002.\n",
      "Solution time =    0.00 sec.\n",
      "Deterministic time = 0.12 ticks  (116.03 ticks/sec)\n",
      "\n",
      "CPLEX> CPLEX Error  1217: No solution exists.\n",
      "No file written.\n",
      "CPLEX> \n",
      "Problem: \n",
      "- Lower bound: -inf\n",
      "  Upper bound: inf\n",
      "  Number of objectives: 1\n",
      "  Number of constraints: 1824\n",
      "  Number of variables: 1368\n",
      "  Number of nonzeros: 4416\n",
      "  Sense: unknown\n",
      "Solver: \n",
      "- Status: ok\n",
      "  User time: 0.0\n",
      "  Termination condition: unknown\n",
      "  Error rc: 0\n",
      "  Time: 0.28705358505249023\n",
      "\n"
     ]
    }
   ],
   "source": [
    "\n",
    "model_forecast.Objective = pyo.Objective(rule=objective_rule, sense=pyo.minimize)\n",
    "solver = pyo.SolverFactory('cplex', executable=cplex_path)\n",
    "#solver = pyo.SolverFactory('ipopt')\n",
    "#solver.set_executable(cplex_path, validate=False)\n",
    "results = solver.solve(model_forecast, tee=True)\n",
    "print(results)\n",
    "# Create a list to store the data\n",
    "data = dict()\n",
    "columnas = list()\n",
    "\n",
    "variables = [model_forecast.XopGrid_t]\n",
    "for variable in variables:\n",
    "  columnas.append(variable.name)\n",
    "  data_variable = list()\n",
    "  for index in variable:\n",
    "    value = pyo.value(variable[index])\n",
    "    data_variable.append(value)\n",
    "  data[variable.name]=data_variable\n",
    "\n",
    "# Convert the list of dictionaries into a DataFrame\n",
    "df = pd.DataFrame(data, columns=columnas)\n",
    "#print(df)"
   ]
  },
  {
   "cell_type": "markdown",
   "metadata": {},
   "source": [
    "# Method 2 - Real"
   ]
  },
  {
   "cell_type": "code",
   "execution_count": 14,
   "metadata": {},
   "outputs": [],
   "source": [
    "model_real = pyo.ConcreteModel(\"Energy Community\")"
   ]
  },
  {
   "cell_type": "code",
   "execution_count": 15,
   "metadata": {},
   "outputs": [],
   "source": [
    "Data_real = build_data.Data() "
   ]
  },
  {
   "cell_type": "code",
   "execution_count": 16,
   "metadata": {},
   "outputs": [],
   "source": [
    "model_real.t = pe.Set(initialize=np.arange(begin_time, end_time + 1),\n",
    "                 doc='Time periods')"
   ]
  },
  {
   "cell_type": "markdown",
   "metadata": {},
   "source": [
    "# Method 3 - Forecast + Real"
   ]
  }
 ],
 "metadata": {
  "kernelspec": {
   "display_name": "Python 3",
   "language": "python",
   "name": "python3"
  },
  "language_info": {
   "codemirror_mode": {
    "name": "ipython",
    "version": 3
   },
   "file_extension": ".py",
   "mimetype": "text/x-python",
   "name": "python",
   "nbconvert_exporter": "python",
   "pygments_lexer": "ipython3",
   "version": "3.10.12"
  }
 },
 "nbformat": 4,
 "nbformat_minor": 2
}
